{
 "cells": [
  {
   "cell_type": "code",
   "execution_count": 3,
   "metadata": {},
   "outputs": [],
   "source": [
    "import requests\n",
    "from bs4 import BeautifulSoup as bs"
   ]
  },
  {
   "cell_type": "code",
   "execution_count": 4,
   "metadata": {},
   "outputs": [],
   "source": [
    "def process_document(document, date):\n",
    "    \n",
    "    nodes = document.select('ul.list > li')\n",
    "    data = list()\n",
    "\n",
    "    for li in nodes:\n",
    "\n",
    "        if li.select_one('a') == None:\n",
    "            continue\n",
    "\n",
    "        li_link = 'http://news.ltn.com.tw/' + li.select_one('a')['href']\n",
    "\n",
    "        li_res = requests.get(li_link)\n",
    "        li_doc = bs(li_res.text, 'lxml')\n",
    "\n",
    "        li_date = datetime.strptime(date, \"%Y%m%d\").strftime('%Y-%m-%d')\n",
    "\n",
    "        li_title = li.select_one('p').get_text()\n",
    "\n",
    "        li_content = \"\"\n",
    "        for ele in li_doc.select('div.text > p'):\n",
    "            if not 'appE1121' in ele.get('class', []):\n",
    "                li_content += ele.get_text()\n",
    "\n",
    "        data.append({\n",
    "            'date' : li_date,\n",
    "            'title': li_title,\n",
    "            'link' : li_link,\n",
    "            'content' : li_content,\n",
    "            'tags' : []\n",
    "        })\n",
    "    return data"
   ]
  },
  {
   "cell_type": "markdown",
   "metadata": {},
   "source": [
    "## Level 1 流程圖"
   ]
  },
  {
   "cell_type": "markdown",
   "metadata": {},
   "source": [
    "![title](Diagram.png)"
   ]
  },
  {
   "cell_type": "markdown",
   "metadata": {},
   "source": [
    "## Level 2 註解"
   ]
  },
  {
   "cell_type": "code",
   "execution_count": null,
   "metadata": {},
   "outputs": [],
   "source": [
    "# function: 爬蟲\n",
    "def process_document(document, date):\n",
    "    \n",
    "    nodes = document.select('ul.list > li')\n",
    "    data = list()\n",
    "\n",
    "    for li in nodes:\n",
    "\n",
    "        # 若為空，則跳過此 node\n",
    "        if li.select_one('a') == None:\n",
    "            continue\n",
    "\n",
    "        # 將 node 內的資訊和網址結合\n",
    "        li_link = 'http://news.ltn.com.tw/' + li.select_one('a')['href']\n",
    "\n",
    "        # 爬取資料，使用 beautifulSoup 取得 lxml 內的字串\n",
    "        li_res = requests.get(li_link)\n",
    "        li_doc = bs(li_res.text, 'lxml')\n",
    "\n",
    "        # 使用內建 method datatime將時間改為指定格式\n",
    "        li_date = datetime.strptime(date, \"%Y%m%d\").strftime('%Y-%m-%d')\n",
    "\n",
    "        #取得需要資料\n",
    "        li_title = li.select_one('p').get_text()\n",
    "\n",
    "        #將lxml的資料加入list\n",
    "        li_content = \"\"\n",
    "        for ele in li_doc.select('div.text > p'):\n",
    "            if not 'appE1121' in ele.get('class', []):\n",
    "                li_content += ele.get_text()\n",
    "\n",
    "        # 將此 node 得到的資料，保留需要的，加入 data 內\n",
    "        data.append({\n",
    "            'date' : li_date,\n",
    "            'title': li_title,\n",
    "            'link' : li_link,\n",
    "            'content' : li_content,\n",
    "            'tags' : []\n",
    "        })\n",
    "    \n",
    "    # 回傳爬到資料的 list\n",
    "    return data"
   ]
  }
 ],
 "metadata": {
  "kernelspec": {
   "display_name": "Python 3",
   "language": "python",
   "name": "python3"
  },
  "language_info": {
   "codemirror_mode": {
    "name": "ipython",
    "version": 3
   },
   "file_extension": ".py",
   "mimetype": "text/x-python",
   "name": "python",
   "nbconvert_exporter": "python",
   "pygments_lexer": "ipython3",
   "version": "3.6.6"
  }
 },
 "nbformat": 4,
 "nbformat_minor": 2
}
