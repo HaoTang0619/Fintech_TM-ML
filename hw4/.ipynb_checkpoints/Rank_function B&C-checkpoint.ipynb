{
 "cells": [
  {
   "cell_type": "code",
   "execution_count": 65,
   "metadata": {},
   "outputs": [],
   "source": [
    "import pandas as pd\n",
    "import sympy as sp\n",
    "import numpy as np\n",
    "from scipy.optimize import fsolve\n",
    "from scipy.stats import gaussian_kde\n",
    "week = pd.read_csv('df_week_data.csv')\n",
    "month = pd.read_csv('df_month_data.csv')"
   ]
  },
  {
   "cell_type": "code",
   "execution_count": 66,
   "metadata": {},
   "outputs": [
    {
     "data": {
      "text/plain": [
       "Index(['XLE', 'AMLP', 'VDE', 'AMJ', 'EMLP', 'XOP', 'MLPI', 'IXC', 'OIH',\n",
       "       'MLPA', 'IYE', 'MLPX', 'FENY', 'AMZA', 'ERX', 'ATMP', 'IEO', 'TPYP',\n",
       "       'AMU', 'TAN', 'GUSH', 'GREK', 'XES', 'RYE', 'FXN', 'ICLN', 'IEZ', 'PZD',\n",
       "       'PBW', 'DIG', 'FCG', 'MLPC', 'QCLN', 'GEX', 'FAN', 'KOL', 'ENFR', 'PXI',\n",
       "       'ZMLP', 'PBD', 'FILL', 'MLPY', 'DRIP', 'PXE', 'YMLP', 'CRAK', 'IMLP',\n",
       "       'GASL', 'MLPO', 'FRAK', 'PSCE', 'GRID', 'NLR', 'ERY', 'YMLI', 'PXJ',\n",
       "       'YLCO', 'PUW', 'DUG', 'ENY', 'MLPG', 'MLPB', 'AMUB', 'GASX', 'CHIE',\n",
       "       'DDG'],\n",
       "      dtype='object')"
      ]
     },
     "execution_count": 66,
     "metadata": {},
     "output_type": "execute_result"
    }
   ],
   "source": [
    "ETF_name = week.columns[1:]\n",
    "#用來排名\n",
    "Rank_Weekly = pd.DataFrame() \n",
    "Rank_Monthly = pd.DataFrame()\n",
    "#risk-free rate\n",
    "week_rf = (2.45785 / 100 ) / 52\n",
    "month_rf = (2.45785 / 100 ) / 12\n",
    "ETF_name"
   ]
  },
  {
   "cell_type": "code",
   "execution_count": 67,
   "metadata": {},
   "outputs": [],
   "source": [
    "#clear NA to fit pdf\n",
    "week2 = week\n",
    "week2 = week2.dropna(\n",
    "        axis=0,     # 0: 对行进行操作; 1: 对列进行操作\n",
    "        how='any'   # 'any': 只要存在 NaN 就 drop 掉; 'all': 必须全部是 NaN 才 drop \n",
    "        ) \n",
    "month2 = month\n",
    "month2 = month2.dropna(\n",
    "        axis=0,     # 0: 对行进行操作; 1: 对列进行操作\n",
    "        how='any'   # 'any': 只要存在 NaN 就 drop 掉; 'all': 必须全部是 NaN 才 drop \n",
    "        ) "
   ]
  },
  {
   "cell_type": "markdown",
   "metadata": {},
   "source": [
    "# Global Riskiness R"
   ]
  },
  {
   "cell_type": "markdown",
   "metadata": {},
   "source": [
    "---\n",
    "### using uniform distribution"
   ]
  },
  {
   "cell_type": "code",
   "execution_count": 68,
   "metadata": {},
   "outputs": [],
   "source": [
    "def f1(x):\n",
    "    return sum(np.exp(-1*ret/x)) - len(ret)"
   ]
  },
  {
   "cell_type": "code",
   "execution_count": 69,
   "metadata": {},
   "outputs": [
    {
     "name": "stderr",
     "output_type": "stream",
     "text": [
      "C:\\Users\\smile\\Anaconda3\\lib\\site-packages\\scipy\\optimize\\minpack.py:163: RuntimeWarning: The iteration is not making good progress, as measured by the \n",
      "  improvement from the last ten iterations.\n",
      "  warnings.warn(msg, RuntimeWarning)\n",
      "C:\\Users\\smile\\Anaconda3\\lib\\site-packages\\scipy\\optimize\\minpack.py:163: RuntimeWarning: The number of calls to function has reached maxfev = 400.\n",
      "  warnings.warn(msg, RuntimeWarning)\n"
     ]
    },
    {
     "data": {
      "text/html": [
       "<div>\n",
       "<style scoped>\n",
       "    .dataframe tbody tr th:only-of-type {\n",
       "        vertical-align: middle;\n",
       "    }\n",
       "\n",
       "    .dataframe tbody tr th {\n",
       "        vertical-align: top;\n",
       "    }\n",
       "\n",
       "    .dataframe thead th {\n",
       "        text-align: right;\n",
       "    }\n",
       "</style>\n",
       "<table border=\"1\" class=\"dataframe\">\n",
       "  <thead>\n",
       "    <tr style=\"text-align: right;\">\n",
       "      <th></th>\n",
       "      <th>Riskiness_week_uniform</th>\n",
       "      <th>Riskiness_month_uniform</th>\n",
       "    </tr>\n",
       "  </thead>\n",
       "  <tbody>\n",
       "    <tr>\n",
       "      <th>XLE</th>\n",
       "      <td>[0.4424578176239887]</td>\n",
       "      <td>[0.31847578023879]</td>\n",
       "    </tr>\n",
       "    <tr>\n",
       "      <th>AMLP</th>\n",
       "      <td>[0.7956913542821963]</td>\n",
       "      <td>[0.2613453129655935]</td>\n",
       "    </tr>\n",
       "    <tr>\n",
       "      <th>VDE</th>\n",
       "      <td>[0.42313445993495824]</td>\n",
       "      <td>[0.2729776183887574]</td>\n",
       "    </tr>\n",
       "    <tr>\n",
       "      <th>AMJ</th>\n",
       "      <td>[0.3999712519988899]</td>\n",
       "      <td>[0.38548075731649994]</td>\n",
       "    </tr>\n",
       "    <tr>\n",
       "      <th>EMLP</th>\n",
       "      <td>[0.6319649981955575]</td>\n",
       "      <td>[0.055243570934622614]</td>\n",
       "    </tr>\n",
       "  </tbody>\n",
       "</table>\n",
       "</div>"
      ],
      "text/plain": [
       "     Riskiness_week_uniform Riskiness_month_uniform\n",
       "XLE    [0.4424578176239887]      [0.31847578023879]\n",
       "AMLP   [0.7956913542821963]    [0.2613453129655935]\n",
       "VDE   [0.42313445993495824]    [0.2729776183887574]\n",
       "AMJ    [0.3999712519988899]   [0.38548075731649994]\n",
       "EMLP   [0.6319649981955575]  [0.055243570934622614]"
      ]
     },
     "execution_count": 69,
     "metadata": {},
     "output_type": "execute_result"
    }
   ],
   "source": [
    "result = pd.DataFrame()\n",
    "for name in ETF_name:\n",
    "    ret = week[name] - week_rf\n",
    "    ret = ret * 4000 #調整數量級\n",
    "    guess = 10**(-5)\n",
    "    while (guess<1000):\n",
    "        risk = fsolve(f1,guess)\n",
    "        if risk != guess:\n",
    "            break\n",
    "        guess = guess * 2\n",
    "        \n",
    "    ret = month[name] - month_rf\n",
    "    ret = ret * 1000\n",
    "    guess2 = 10**(-5)\n",
    "    while (guess2<1000):\n",
    "        risk2 = fsolve(f1,guess2)\n",
    "        if risk2 != guess2:\n",
    "            break\n",
    "        guess2 = guess2 * 2\n",
    "\n",
    "    result[name] = [np.exp(-1 / risk), np.exp(-1 / risk2)]\n",
    "    #result[name] = [np.exp(-1 / risk2)]\n",
    "Riskiness = pd.DataFrame()\n",
    "Riskiness[\"Riskiness_week_uniform\"] = result.T[0] \n",
    "Riskiness[\"Riskiness_month_uniform\"] = result.T[1]\n",
    "Riskiness.head()"
   ]
  },
  {
   "cell_type": "code",
   "execution_count": 70,
   "metadata": {},
   "outputs": [],
   "source": [
    "#Rank\n",
    "Rank_Weekly[\"Riskiness_week_uniform_rank\"] = Riskiness.sort_values(by = \"Riskiness_week_uniform\", ascending= False).index\n",
    "Rank_Monthly[\"Riskiness_month_uniform_rank\"] = Riskiness.sort_values(by = \"Riskiness_month_uniform\", ascending= False).index"
   ]
  },
  {
   "cell_type": "markdown",
   "metadata": {},
   "source": [
    "---\n",
    "### using fitted pdf"
   ]
  },
  {
   "cell_type": "code",
   "execution_count": 71,
   "metadata": {},
   "outputs": [],
   "source": [
    "def pdf(data):\n",
    "    kde = gaussian_kde(data)\n",
    "    return kde\n",
    "def f3(x):\n",
    "    summ = 0 \n",
    "    for r in ret:\n",
    "        summ = summ + np.exp(-1*r/x) * pdf(ret).integrate_box_1d(r-10**(-3), r)\n",
    "    return summ - 1"
   ]
  },
  {
   "cell_type": "code",
   "execution_count": 72,
   "metadata": {},
   "outputs": [
    {
     "name": "stderr",
     "output_type": "stream",
     "text": [
      "C:\\Users\\smile\\Anaconda3\\lib\\site-packages\\scipy\\optimize\\minpack.py:163: RuntimeWarning: The iteration is not making good progress, as measured by the \n",
      "  improvement from the last ten iterations.\n",
      "  warnings.warn(msg, RuntimeWarning)\n",
      "C:\\Users\\smile\\Anaconda3\\lib\\site-packages\\scipy\\optimize\\minpack.py:163: RuntimeWarning: The number of calls to function has reached maxfev = 400.\n",
      "  warnings.warn(msg, RuntimeWarning)\n"
     ]
    },
    {
     "data": {
      "text/html": [
       "<div>\n",
       "<style scoped>\n",
       "    .dataframe tbody tr th:only-of-type {\n",
       "        vertical-align: middle;\n",
       "    }\n",
       "\n",
       "    .dataframe tbody tr th {\n",
       "        vertical-align: top;\n",
       "    }\n",
       "\n",
       "    .dataframe thead th {\n",
       "        text-align: right;\n",
       "    }\n",
       "</style>\n",
       "<table border=\"1\" class=\"dataframe\">\n",
       "  <thead>\n",
       "    <tr style=\"text-align: right;\">\n",
       "      <th></th>\n",
       "      <th>Riskiness_week_fit_pdf</th>\n",
       "      <th>Riskiness_month_fit_pdf</th>\n",
       "    </tr>\n",
       "  </thead>\n",
       "  <tbody>\n",
       "    <tr>\n",
       "      <th>XLE</th>\n",
       "      <td>[0.7474470653803515]</td>\n",
       "      <td>[0.9139988657451691]</td>\n",
       "    </tr>\n",
       "    <tr>\n",
       "      <th>AMLP</th>\n",
       "      <td>[0.6282891062810966]</td>\n",
       "      <td>[0.9176896014327868]</td>\n",
       "    </tr>\n",
       "    <tr>\n",
       "      <th>VDE</th>\n",
       "      <td>[0.7150260638368362]</td>\n",
       "      <td>[0.9192702688865181]</td>\n",
       "    </tr>\n",
       "    <tr>\n",
       "      <th>AMJ</th>\n",
       "      <td>[0.6760946711891742]</td>\n",
       "      <td>[0.9079542283511314]</td>\n",
       "    </tr>\n",
       "    <tr>\n",
       "      <th>EMLP</th>\n",
       "      <td>[0.9437877279426673]</td>\n",
       "      <td>[0.8602002325586239]</td>\n",
       "    </tr>\n",
       "  </tbody>\n",
       "</table>\n",
       "</div>"
      ],
      "text/plain": [
       "     Riskiness_week_fit_pdf Riskiness_month_fit_pdf\n",
       "XLE    [0.7474470653803515]    [0.9139988657451691]\n",
       "AMLP   [0.6282891062810966]    [0.9176896014327868]\n",
       "VDE    [0.7150260638368362]    [0.9192702688865181]\n",
       "AMJ    [0.6760946711891742]    [0.9079542283511314]\n",
       "EMLP   [0.9437877279426673]    [0.8602002325586239]"
      ]
     },
     "execution_count": 72,
     "metadata": {},
     "output_type": "execute_result"
    }
   ],
   "source": [
    "result2 = pd.DataFrame()\n",
    "for i in range(0,66):\n",
    "    ret = week2[ETF_name[i]] - week_rf\n",
    "    ret = ret * 4000\n",
    "    guess2 = 10**(-5)\n",
    "    while (guess2<1000):\n",
    "        risk2 = fsolve(f3, guess2)\n",
    "        if risk2 != guess2:\n",
    "            break\n",
    "        guess2 = guess2 * 10\n",
    "    \n",
    "    ret = month2[ETF_name[i]] - month_rf\n",
    "    ret = ret * 1000\n",
    "    guess3 = 10**(-5)\n",
    "    while (guess3<1000):\n",
    "        risk3 = fsolve(f3, guess3)\n",
    "        if risk3 != guess3:\n",
    "            break\n",
    "        guess3 = guess3 * 10\n",
    "    result2[ETF_name[i]] = [np.exp(-1 / risk2), np.exp(-1 / risk3)]\n",
    "    \n",
    "Riskiness2 = pd.DataFrame()\n",
    "Riskiness2[\"Riskiness_week_fit_pdf\"] = result2.T[0] \n",
    "Riskiness2[\"Riskiness_month_fit_pdf\"] = result2.T[1]\n",
    "Riskiness2.head()"
   ]
  },
  {
   "cell_type": "code",
   "execution_count": 73,
   "metadata": {},
   "outputs": [],
   "source": [
    "#Rank\n",
    "Rank_Weekly[\"Riskiness_week_fitpdf_rank\"] = Riskiness2.sort_values(by = \"Riskiness_week_fit_pdf\", ascending= False).index\n",
    "Rank_Monthly[\"Riskiness_month_fitpdf_rank\"] = Riskiness2.sort_values(by = \"Riskiness_month_fit_pdf\", ascending= False).index"
   ]
  },
  {
   "cell_type": "markdown",
   "metadata": {},
   "source": [
    "# Sharpe Omega measure"
   ]
  },
  {
   "cell_type": "code",
   "execution_count": 74,
   "metadata": {},
   "outputs": [],
   "source": [
    "def EV_uni(data, rf):\n",
    "    fil = (rf > data[name])\n",
    "    return (data[name][fil]-rf).mean()\n",
    "def EV(data):\n",
    "    return (data[name].mean())"
   ]
  },
  {
   "cell_type": "code",
   "execution_count": 75,
   "metadata": {},
   "outputs": [
    {
     "data": {
      "text/html": [
       "<div>\n",
       "<style scoped>\n",
       "    .dataframe tbody tr th:only-of-type {\n",
       "        vertical-align: middle;\n",
       "    }\n",
       "\n",
       "    .dataframe tbody tr th {\n",
       "        vertical-align: top;\n",
       "    }\n",
       "\n",
       "    .dataframe thead th {\n",
       "        text-align: right;\n",
       "    }\n",
       "</style>\n",
       "<table border=\"1\" class=\"dataframe\">\n",
       "  <thead>\n",
       "    <tr style=\"text-align: right;\">\n",
       "      <th></th>\n",
       "      <th>EX_all_week</th>\n",
       "      <th>EX_all_month</th>\n",
       "      <th>EX_part_week</th>\n",
       "      <th>EX_part_month</th>\n",
       "    </tr>\n",
       "  </thead>\n",
       "  <tbody>\n",
       "    <tr>\n",
       "      <th>XLE</th>\n",
       "      <td>-0.000736</td>\n",
       "      <td>-0.013263</td>\n",
       "      <td>-0.025899</td>\n",
       "      <td>-0.059633</td>\n",
       "    </tr>\n",
       "    <tr>\n",
       "      <th>AMLP</th>\n",
       "      <td>-0.001159</td>\n",
       "      <td>-0.009799</td>\n",
       "      <td>-0.026690</td>\n",
       "      <td>-0.065229</td>\n",
       "    </tr>\n",
       "    <tr>\n",
       "      <th>VDE</th>\n",
       "      <td>-0.001027</td>\n",
       "      <td>-0.014799</td>\n",
       "      <td>-0.027084</td>\n",
       "      <td>-0.063534</td>\n",
       "    </tr>\n",
       "    <tr>\n",
       "      <th>AMJ</th>\n",
       "      <td>-0.000812</td>\n",
       "      <td>-0.008987</td>\n",
       "      <td>-0.025182</td>\n",
       "      <td>-0.058739</td>\n",
       "    </tr>\n",
       "    <tr>\n",
       "      <th>EMLP</th>\n",
       "      <td>0.001646</td>\n",
       "      <td>0.001067</td>\n",
       "      <td>-0.015305</td>\n",
       "      <td>-0.029581</td>\n",
       "    </tr>\n",
       "  </tbody>\n",
       "</table>\n",
       "</div>"
      ],
      "text/plain": [
       "      EX_all_week  EX_all_month  EX_part_week  EX_part_month\n",
       "XLE     -0.000736     -0.013263     -0.025899      -0.059633\n",
       "AMLP    -0.001159     -0.009799     -0.026690      -0.065229\n",
       "VDE     -0.001027     -0.014799     -0.027084      -0.063534\n",
       "AMJ     -0.000812     -0.008987     -0.025182      -0.058739\n",
       "EMLP     0.001646      0.001067     -0.015305      -0.029581"
      ]
     },
     "execution_count": 75,
     "metadata": {},
     "output_type": "execute_result"
    }
   ],
   "source": [
    "expected_value = pd.DataFrame()\n",
    "expected_value2 = pd.DataFrame()\n",
    "\n",
    "for name in ETF_name:\n",
    "    expected_value[name] = [EV(week2), EV(month2), EV_uni(week2,week_rf), EV_uni(month2, month_rf)]\n",
    "    #expected_value2[name] = [EV_D(week2,week_rf), EV_D(month2, month_rf)]\n",
    "\n",
    "EX = expected_value.T\n",
    "EX.columns = ['EX_all_week','EX_all_month','EX_part_week','EX_part_month']\n",
    "EX.head()"
   ]
  },
  {
   "cell_type": "code",
   "execution_count": 76,
   "metadata": {},
   "outputs": [],
   "source": [
    "SO_weekly = pd.DataFrame()\n",
    "SO_monthly = pd.DataFrame()\n",
    "SO_weekly[\"Weekly Sharpe Omega\"] = (EX[\"EX_all_week\"] - week_rf) / EX[\"EX_part_week\"]\n",
    "SO_monthly[\"Monthly Sharpe Omega\"] = (EX['EX_all_month'] - month_rf) / EX[\"EX_part_month\"]\n",
    "#排名\n",
    "#print(SO_weekly.sort_values(by = \"Weekly Sharpe Omega\", ascending= False))\n",
    "#print(SO_monthly.sort_values(by = \"Monthly Sharpe Omega\", ascending= False))\n",
    "Rank_Weekly[\"Sharpe_Omega_week_rank\"] = SO_weekly.sort_values(by = \"Weekly Sharpe Omega\", ascending= False).index\n",
    "Rank_Monthly[\"Sharpe_Omega_month_rank\"] = SO_monthly.sort_values(by = \"Monthly Sharpe Omega\", ascending= False).index"
   ]
  },
  {
   "cell_type": "markdown",
   "metadata": {},
   "source": [
    "# 用週報酬排名"
   ]
  },
  {
   "cell_type": "code",
   "execution_count": 77,
   "metadata": {},
   "outputs": [
    {
     "data": {
      "text/html": [
       "<div>\n",
       "<style scoped>\n",
       "    .dataframe tbody tr th:only-of-type {\n",
       "        vertical-align: middle;\n",
       "    }\n",
       "\n",
       "    .dataframe tbody tr th {\n",
       "        vertical-align: top;\n",
       "    }\n",
       "\n",
       "    .dataframe thead th {\n",
       "        text-align: right;\n",
       "    }\n",
       "</style>\n",
       "<table border=\"1\" class=\"dataframe\">\n",
       "  <thead>\n",
       "    <tr style=\"text-align: right;\">\n",
       "      <th></th>\n",
       "      <th>Riskiness_week_uniform_rank</th>\n",
       "      <th>Riskiness_week_fitpdf_rank</th>\n",
       "      <th>Sharpe_Omega_week_rank</th>\n",
       "    </tr>\n",
       "  </thead>\n",
       "  <tbody>\n",
       "    <tr>\n",
       "      <th>0</th>\n",
       "      <td>ENY</td>\n",
       "      <td>ERY</td>\n",
       "      <td>ERY</td>\n",
       "    </tr>\n",
       "    <tr>\n",
       "      <th>1</th>\n",
       "      <td>MLPO</td>\n",
       "      <td>DRIP</td>\n",
       "      <td>GASL</td>\n",
       "    </tr>\n",
       "    <tr>\n",
       "      <th>2</th>\n",
       "      <td>PUW</td>\n",
       "      <td>GASL</td>\n",
       "      <td>GUSH</td>\n",
       "    </tr>\n",
       "    <tr>\n",
       "      <th>3</th>\n",
       "      <td>ERY</td>\n",
       "      <td>ERX</td>\n",
       "      <td>MLPO</td>\n",
       "    </tr>\n",
       "    <tr>\n",
       "      <th>4</th>\n",
       "      <td>GASX</td>\n",
       "      <td>MLPB</td>\n",
       "      <td>OIH</td>\n",
       "    </tr>\n",
       "    <tr>\n",
       "      <th>5</th>\n",
       "      <td>GUSH</td>\n",
       "      <td>DIG</td>\n",
       "      <td>GASX</td>\n",
       "    </tr>\n",
       "    <tr>\n",
       "      <th>6</th>\n",
       "      <td>GASL</td>\n",
       "      <td>AMUB</td>\n",
       "      <td>XES</td>\n",
       "    </tr>\n",
       "    <tr>\n",
       "      <th>7</th>\n",
       "      <td>DRIP</td>\n",
       "      <td>AMZA</td>\n",
       "      <td>PXJ</td>\n",
       "    </tr>\n",
       "    <tr>\n",
       "      <th>8</th>\n",
       "      <td>MLPB</td>\n",
       "      <td>MLPG</td>\n",
       "      <td>DRIP</td>\n",
       "    </tr>\n",
       "    <tr>\n",
       "      <th>9</th>\n",
       "      <td>AMU</td>\n",
       "      <td>GASX</td>\n",
       "      <td>PSCE</td>\n",
       "    </tr>\n",
       "  </tbody>\n",
       "</table>\n",
       "</div>"
      ],
      "text/plain": [
       "  Riskiness_week_uniform_rank Riskiness_week_fitpdf_rank  \\\n",
       "0                         ENY                        ERY   \n",
       "1                        MLPO                       DRIP   \n",
       "2                         PUW                       GASL   \n",
       "3                         ERY                        ERX   \n",
       "4                        GASX                       MLPB   \n",
       "5                        GUSH                        DIG   \n",
       "6                        GASL                       AMUB   \n",
       "7                        DRIP                       AMZA   \n",
       "8                        MLPB                       MLPG   \n",
       "9                         AMU                       GASX   \n",
       "\n",
       "  Sharpe_Omega_week_rank  \n",
       "0                    ERY  \n",
       "1                   GASL  \n",
       "2                   GUSH  \n",
       "3                   MLPO  \n",
       "4                    OIH  \n",
       "5                   GASX  \n",
       "6                    XES  \n",
       "7                    PXJ  \n",
       "8                   DRIP  \n",
       "9                   PSCE  "
      ]
     },
     "execution_count": 77,
     "metadata": {},
     "output_type": "execute_result"
    }
   ],
   "source": [
    "Rank_Weekly.head(10)"
   ]
  },
  {
   "cell_type": "markdown",
   "metadata": {},
   "source": [
    "# 用月報酬排名"
   ]
  },
  {
   "cell_type": "code",
   "execution_count": 78,
   "metadata": {},
   "outputs": [
    {
     "data": {
      "text/html": [
       "<div>\n",
       "<style scoped>\n",
       "    .dataframe tbody tr th:only-of-type {\n",
       "        vertical-align: middle;\n",
       "    }\n",
       "\n",
       "    .dataframe tbody tr th {\n",
       "        vertical-align: top;\n",
       "    }\n",
       "\n",
       "    .dataframe thead th {\n",
       "        text-align: right;\n",
       "    }\n",
       "</style>\n",
       "<table border=\"1\" class=\"dataframe\">\n",
       "  <thead>\n",
       "    <tr style=\"text-align: right;\">\n",
       "      <th></th>\n",
       "      <th>Riskiness_month_uniform_rank</th>\n",
       "      <th>Riskiness_month_fitpdf_rank</th>\n",
       "      <th>Sharpe_Omega_month_rank</th>\n",
       "    </tr>\n",
       "  </thead>\n",
       "  <tbody>\n",
       "    <tr>\n",
       "      <th>0</th>\n",
       "      <td>ENY</td>\n",
       "      <td>GASL</td>\n",
       "      <td>GASL</td>\n",
       "    </tr>\n",
       "    <tr>\n",
       "      <th>1</th>\n",
       "      <td>PUW</td>\n",
       "      <td>GUSH</td>\n",
       "      <td>MLPO</td>\n",
       "    </tr>\n",
       "    <tr>\n",
       "      <th>2</th>\n",
       "      <td>MLPO</td>\n",
       "      <td>ERY</td>\n",
       "      <td>OIH</td>\n",
       "    </tr>\n",
       "    <tr>\n",
       "      <th>3</th>\n",
       "      <td>ERY</td>\n",
       "      <td>IEZ</td>\n",
       "      <td>XES</td>\n",
       "    </tr>\n",
       "    <tr>\n",
       "      <th>4</th>\n",
       "      <td>DRIP</td>\n",
       "      <td>OIH</td>\n",
       "      <td>PXJ</td>\n",
       "    </tr>\n",
       "    <tr>\n",
       "      <th>5</th>\n",
       "      <td>GASL</td>\n",
       "      <td>FCG</td>\n",
       "      <td>GUSH</td>\n",
       "    </tr>\n",
       "    <tr>\n",
       "      <th>6</th>\n",
       "      <td>GUSH</td>\n",
       "      <td>DUG</td>\n",
       "      <td>PSCE</td>\n",
       "    </tr>\n",
       "    <tr>\n",
       "      <th>7</th>\n",
       "      <td>GASX</td>\n",
       "      <td>XOP</td>\n",
       "      <td>FCG</td>\n",
       "    </tr>\n",
       "    <tr>\n",
       "      <th>8</th>\n",
       "      <td>ERX</td>\n",
       "      <td>PXE</td>\n",
       "      <td>IEZ</td>\n",
       "    </tr>\n",
       "    <tr>\n",
       "      <th>9</th>\n",
       "      <td>XOP</td>\n",
       "      <td>AMZA</td>\n",
       "      <td>GREK</td>\n",
       "    </tr>\n",
       "  </tbody>\n",
       "</table>\n",
       "</div>"
      ],
      "text/plain": [
       "  Riskiness_month_uniform_rank Riskiness_month_fitpdf_rank  \\\n",
       "0                          ENY                        GASL   \n",
       "1                          PUW                        GUSH   \n",
       "2                         MLPO                         ERY   \n",
       "3                          ERY                         IEZ   \n",
       "4                         DRIP                         OIH   \n",
       "5                         GASL                         FCG   \n",
       "6                         GUSH                         DUG   \n",
       "7                         GASX                         XOP   \n",
       "8                          ERX                         PXE   \n",
       "9                          XOP                        AMZA   \n",
       "\n",
       "  Sharpe_Omega_month_rank  \n",
       "0                    GASL  \n",
       "1                    MLPO  \n",
       "2                     OIH  \n",
       "3                     XES  \n",
       "4                     PXJ  \n",
       "5                    GUSH  \n",
       "6                    PSCE  \n",
       "7                     FCG  \n",
       "8                     IEZ  \n",
       "9                    GREK  "
      ]
     },
     "execution_count": 78,
     "metadata": {},
     "output_type": "execute_result"
    }
   ],
   "source": [
    "Rank_Monthly.head(10)"
   ]
  },
  {
   "cell_type": "code",
   "execution_count": 79,
   "metadata": {},
   "outputs": [],
   "source": [
    "week_rank_B_C = Rank_Weekly\n",
    "week_rank_B_C.to_csv(\"rank_with_functionB&C_week.csv\")"
   ]
  },
  {
   "cell_type": "code",
   "execution_count": 80,
   "metadata": {},
   "outputs": [],
   "source": [
    "month_rank_B_C = Rank_Monthly\n",
    "month_rank_B_C.to_csv(\"rank_with_functionB&C_month.csv\")"
   ]
  }
 ],
 "metadata": {
  "kernelspec": {
   "display_name": "Python 3",
   "language": "python",
   "name": "python3"
  },
  "language_info": {
   "codemirror_mode": {
    "name": "ipython",
    "version": 3
   },
   "file_extension": ".py",
   "mimetype": "text/x-python",
   "name": "python",
   "nbconvert_exporter": "python",
   "pygments_lexer": "ipython3",
   "version": "3.6.5"
  }
 },
 "nbformat": 4,
 "nbformat_minor": 2
}
