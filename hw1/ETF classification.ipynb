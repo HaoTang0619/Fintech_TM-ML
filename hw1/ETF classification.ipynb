{
 "cells": [
  {
   "cell_type": "code",
   "execution_count": 1,
   "metadata": {},
   "outputs": [],
   "source": [
    "#依公司分類ETF\n",
    "\n",
    "Class = { \"Alerian\": ['ENFR', 'AMLP'], \"Barclays\": ['ATMP'], \"Suisse\": ['MLPO'], \n",
    "         \"Direxion\": ['ERY', 'ERX', 'GASX', 'GASL', 'DRIP', 'GUSH', 'ZMLP'], \"SPDR\": ['XLE', 'XES', 'XOP'],\n",
    "         \"ETRACS\": ['AMU', 'AMUB', 'MLPB'], \"Fidelity\": ['FENY'],\n",
    "         \"FirstTrust\": ['FXN', 'FAN', 'FCG', 'QCLN', 'GRID', 'EMLP'], \"Global\": ['GREK', 'MLPX', 'MLPA', 'CHIE', 'YLCO'],\n",
    "         \"Infra\": ['AMZA'], \"Invesco\": ['ENY', 'PZD', 'PXI', 'PXE', 'PXJ', 'PBD', 'RYE', 'PSCE', 'TAN', 'PBW', 'PUW'],\n",
    "         \"iPath\": ['IMLP'], \"iShares\": ['ICLN', 'IXC', 'FILL', 'IYE', 'IEO', 'IEZ'], \"JP\": ['AMJ'], \"Miller\": ['MLPC'],\n",
    "         \"Morgan\": ['MLPY'], \"ProShares\": ['DIG', 'DUG', 'DDG'], \"Tortoise\": ['TPYP'], \"UBS\": ['MLPI', 'MLPG'],\n",
    "         \"VanEck\": ['KOL', 'GEX', 'YMLI', 'YMLP', 'CRAK', 'OIH', 'FRAK', 'NLR'], \"Vanguard\": ['VDE'] }\n",
    "\n"
   ]
  },
  {
   "cell_type": "code",
   "execution_count": 7,
   "metadata": {},
   "outputs": [],
   "source": [
    "#依公司、爬蟲來源分類\n",
    "\n",
    "ETFcom = { \"Invesco\": ['PZD', 'PXI', 'PXE', 'PXJ', 'PBD', 'RYE', 'PSCE', 'TAN', 'PBW'], \n",
    "          \"SPDR\": ['XLE'], \"ProShares\": ['DIG', 'DUG', 'DDG'], \"Tortoise\": ['TPYP'], \n",
    "          \"VanEck\": ['KOL', 'GEX', 'YMLI', 'YMLP', 'CRAK', 'OIH', 'FRAK', 'NLR'],\n",
    "         \"iShares\": ['ICLN', 'IXC', 'FILL', 'IYE', 'IEO', 'IEZ'],\n",
    "         } \n",
    "\n",
    "YahooFin = { \"Morgan\": ['MLPY'], \"Infra\": ['AMZA'], \"Alerian\": ['ENFR', 'AMLP'], \"Barclays\": ['ATMP'],\n",
    "           \"Direxion\": ['ERY', 'ERX', 'GASX', 'GASL', 'DRIP', 'GUSH', 'ZMLP'], \"ETRACS\": ['AMU', 'AMUB', 'MLPB'],\n",
    "           \"Suisse\": ['MLPO'], \"Fidelity\": ['FENY'], \"FirstTrust\": ['FXN', 'FAN', 'FCG', 'QCLN', 'GRID', 'EMLP'],\n",
    "           \"iPath\": ['IMLP'], \"JP\": ['AMJ'], \"Miller\": ['MLPC'], \"UBS\": ['MLPI', 'MLPG'],\"Vanguard\": ['VDE'],\n",
    "           \"Global\": ['GREK', 'MLPX', 'MLPA', 'CHIE', 'YLCO'], \"SPDR\": ['XES', 'XOP'], \"Invesco\": ['ENY','PUW'] \n",
    "           }"
   ]
  },
  {
   "cell_type": "code",
   "execution_count": 13,
   "metadata": {},
   "outputs": [],
   "source": [
    "#list\n",
    "#要從Yahoo finance爬的ETF (總共38個要從Finance找)\n",
    "YahooFinance = ['MLPY', 'AMZA', 'ENFR', 'AMLP', 'ATMP', 'ERY', 'ERX', 'GASX', 'GASL', 'DRIP', 'GUSH', 'ZMLP',\n",
    "               'AMU', 'AMUB', 'MLPB', 'MLPO', 'FENY', 'FXN', 'FAN', 'FCG', 'QCLN', 'GRID', 'EMLP', 'IMLP', 'AMJ', 'MLPC',\n",
    "               'MLPI', 'MLPG', 'VDE', 'GREK', 'MLPX', 'MLPA', 'CHIE', 'YLCO', 'ENY', 'XES', 'XOP' , 'PUW']\n",
    "\n",
    "#要從ETF.com爬的ETF\n",
    "ETFCom = ['PZD', 'PXI', 'PXE', 'PXJ', 'PBD', 'RYE', 'PSCE', 'TAN', 'PBW', 'XLE', 'DIG', 'DUG', 'DDG', 'TPYP', \n",
    "          'KOL', 'GEX', 'YMLI', 'YMLP', 'CRAK', 'OIH', 'FRAK', 'NLR', 'ICLN', 'IXC', 'FILL', 'IYE', 'IEO', 'IEZ']"
   ]
  }
 ],
 "metadata": {
  "kernelspec": {
   "display_name": "Python 3",
   "language": "python",
   "name": "python3"
  },
  "language_info": {
   "codemirror_mode": {
    "name": "ipython",
    "version": 3
   },
   "file_extension": ".py",
   "mimetype": "text/x-python",
   "name": "python",
   "nbconvert_exporter": "python",
   "pygments_lexer": "ipython3",
   "version": "3.6.5"
  }
 },
 "nbformat": 4,
 "nbformat_minor": 2
}
