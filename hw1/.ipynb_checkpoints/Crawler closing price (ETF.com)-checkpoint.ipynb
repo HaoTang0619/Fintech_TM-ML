{
 "cells": [
  {
   "cell_type": "markdown",
   "metadata": {},
   "source": [
    "# Crawler (ETF.com)\n",
    "### Only 2 of 66 ETF have Closing price data on their own websites:\n",
    "\n",
    "'FENY', 'TPYP'"
   ]
  },
  {
   "cell_type": "code",
   "execution_count": 26,
   "metadata": {},
   "outputs": [],
   "source": [
    "from selenium import webdriver\n",
    "import time\n",
    "from bs4 import BeautifulSoup\n",
    "import requests\n",
    "import pandas as pd"
   ]
  },
  {
   "cell_type": "code",
   "execution_count": 27,
   "metadata": {},
   "outputs": [],
   "source": [
    "#classified by institution (different website)\n",
    "ETFCom = ['FENY', 'TPYP']"
   ]
  },
  {
   "cell_type": "code",
   "execution_count": 28,
   "metadata": {},
   "outputs": [
    {
     "name": "stdout",
     "output_type": "stream",
     "text": [
      "Successfully download FENY \n",
      "\n"
     ]
    },
    {
     "data": {
      "text/html": [
       "<div>\n",
       "<style scoped>\n",
       "    .dataframe tbody tr th:only-of-type {\n",
       "        vertical-align: middle;\n",
       "    }\n",
       "\n",
       "    .dataframe tbody tr th {\n",
       "        vertical-align: top;\n",
       "    }\n",
       "\n",
       "    .dataframe thead th {\n",
       "        text-align: right;\n",
       "    }\n",
       "</style>\n",
       "<table border=\"1\" class=\"dataframe\">\n",
       "  <thead>\n",
       "    <tr style=\"text-align: right;\">\n",
       "      <th></th>\n",
       "      <th>Date</th>\n",
       "      <th>FENY</th>\n",
       "    </tr>\n",
       "  </thead>\n",
       "  <tbody>\n",
       "    <tr>\n",
       "      <th>1355</th>\n",
       "      <td>03/15/2019</td>\n",
       "      <td>17.89</td>\n",
       "    </tr>\n",
       "    <tr>\n",
       "      <th>1354</th>\n",
       "      <td>03/14/2019</td>\n",
       "      <td>18.04</td>\n",
       "    </tr>\n",
       "    <tr>\n",
       "      <th>1353</th>\n",
       "      <td>03/13/2019</td>\n",
       "      <td>18.04</td>\n",
       "    </tr>\n",
       "    <tr>\n",
       "      <th>1352</th>\n",
       "      <td>03/12/2019</td>\n",
       "      <td>17.82</td>\n",
       "    </tr>\n",
       "    <tr>\n",
       "      <th>1351</th>\n",
       "      <td>03/11/2019</td>\n",
       "      <td>17.68</td>\n",
       "    </tr>\n",
       "  </tbody>\n",
       "</table>\n",
       "</div>"
      ],
      "text/plain": [
       "            Date   FENY\n",
       "1355  03/15/2019  17.89\n",
       "1354  03/14/2019  18.04\n",
       "1353  03/13/2019  18.04\n",
       "1352  03/12/2019  17.82\n",
       "1351  03/11/2019  17.68"
      ]
     },
     "execution_count": 28,
     "metadata": {},
     "output_type": "execute_result"
    }
   ],
   "source": [
    "#'FENY'\n",
    "driver = webdriver.Chrome('chromedriver.exe')\n",
    "driver.get(\"https://ETF.com/FENY/#overview\")\n",
    "driver.find_element_by_link_text(\"Fund Home Page\").click()\n",
    "driver.find_element_by_id(\"priceHistory\").click()\n",
    "driver.find_element_by_link_text(\"Download to CSV file\").click()\n",
    "time.sleep(6)\n",
    "driver.quit()\n",
    "print(\"Successfully download FENY \\n\")\n",
    "\n",
    "\n",
    "#dateframe\n",
    "df = pd.read_csv(\"FENY_Price_History_20190315.csv\")\n",
    "df = df[550:1356]\n",
    "df = df.iloc[:,[0,4]]\n",
    "df = df.iloc[::-1]\n",
    "df = df.rename(columns={'Close':'FENY'})\n",
    "df.head()"
   ]
  },
  {
   "cell_type": "code",
   "execution_count": 29,
   "metadata": {},
   "outputs": [
    {
     "data": {
      "text/html": [
       "<div>\n",
       "<style scoped>\n",
       "    .dataframe tbody tr th:only-of-type {\n",
       "        vertical-align: middle;\n",
       "    }\n",
       "\n",
       "    .dataframe tbody tr th {\n",
       "        vertical-align: top;\n",
       "    }\n",
       "\n",
       "    .dataframe thead th {\n",
       "        text-align: right;\n",
       "    }\n",
       "</style>\n",
       "<table border=\"1\" class=\"dataframe\">\n",
       "  <thead>\n",
       "    <tr style=\"text-align: right;\">\n",
       "      <th></th>\n",
       "      <th>Date</th>\n",
       "      <th>TPYP</th>\n",
       "    </tr>\n",
       "  </thead>\n",
       "  <tbody>\n",
       "    <tr>\n",
       "      <th>0</th>\n",
       "      <td>3/15/2019</td>\n",
       "      <td>$23.77</td>\n",
       "    </tr>\n",
       "    <tr>\n",
       "      <th>1</th>\n",
       "      <td>3/14/2019</td>\n",
       "      <td>$23.90</td>\n",
       "    </tr>\n",
       "    <tr>\n",
       "      <th>2</th>\n",
       "      <td>3/13/2019</td>\n",
       "      <td>$23.90</td>\n",
       "    </tr>\n",
       "    <tr>\n",
       "      <th>3</th>\n",
       "      <td>3/12/2019</td>\n",
       "      <td>$23.83</td>\n",
       "    </tr>\n",
       "    <tr>\n",
       "      <th>4</th>\n",
       "      <td>3/11/2019</td>\n",
       "      <td>$23.69</td>\n",
       "    </tr>\n",
       "  </tbody>\n",
       "</table>\n",
       "</div>"
      ],
      "text/plain": [
       "        Date    TPYP\n",
       "0  3/15/2019  $23.77\n",
       "1  3/14/2019  $23.90\n",
       "2  3/13/2019  $23.90\n",
       "3  3/12/2019  $23.83\n",
       "4  3/11/2019  $23.69"
      ]
     },
     "execution_count": 29,
     "metadata": {},
     "output_type": "execute_result"
    }
   ],
   "source": [
    "#'TPYP' \n",
    "r = requests.get(\"http://etp.tortoiseadvisors.com/tpyp/premium-discount/\")\n",
    "if r.status_code == requests.codes.ok:\n",
    "    soup = BeautifulSoup(r.text, 'html.parser')\n",
    "tags = soup.find_all('table')\n",
    "df = pd.read_html(str(tags[0]))\n",
    "dff = pd.DataFrame(df[0])\n",
    "a = dff[0:781] #date filter\n",
    "TPYP = a.iloc[:,[0,1]] #keep date & NAV\n",
    "TPYP = TPYP.rename(columns={'Share Price':'TPYP'})\n",
    "TPYP.head()"
   ]
  }
 ],
 "metadata": {
  "kernelspec": {
   "display_name": "Python 3",
   "language": "python",
   "name": "python3"
  },
  "language_info": {
   "codemirror_mode": {
    "name": "ipython",
    "version": 3
   },
   "file_extension": ".py",
   "mimetype": "text/x-python",
   "name": "python",
   "nbconvert_exporter": "python",
   "pygments_lexer": "ipython3",
   "version": "3.6.6"
  }
 },
 "nbformat": 4,
 "nbformat_minor": 2
}
