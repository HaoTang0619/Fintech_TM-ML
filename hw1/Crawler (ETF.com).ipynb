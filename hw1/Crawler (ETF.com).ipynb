{
 "cells": [
  {
   "cell_type": "markdown",
   "metadata": {},
   "source": [
    "# Crawler (ETF.com)\n",
    "\n",
    "### Total 28 ETF:\n",
    "'PZD', 'PXI', 'PXE', 'PXJ', 'PBD', 'RYE', 'PSCE', 'TAN', 'PBW', 'XLE', 'DIG', 'DUG', 'DDG', 'TPYP', 'KOL', 'GEX', 'YMLI', 'YMLP', 'CRAK', 'OIH', 'FRAK', 'NLR', 'ICLN', 'IXC', 'FILL', 'IYE', 'IEO', 'IEZ'\n",
    "### We've downloaded 27 of total ETF as excel file (see the NAV folder), except for 'TPYP' (dataframe completed, no more need for processing)"
   ]
  },
  {
   "cell_type": "code",
   "execution_count": 243,
   "metadata": {},
   "outputs": [],
   "source": [
    "from selenium import webdriver\n",
    "from selenium.webdriver.support.ui import Select\n",
    "import time\n",
    "from bs4 import BeautifulSoup\n",
    "import requests\n",
    "import pandas as pd"
   ]
  },
  {
   "cell_type": "code",
   "execution_count": 244,
   "metadata": {},
   "outputs": [],
   "source": [
    "def Locate_by_linkname(name, text):\n",
    "    driver = webdriver.Chrome('C:/Users/smile/Documents/GitHub/chromedriver.exe')\n",
    "    driver.get(\"https://ETF.com/\" + name + \"#overview\")\n",
    "    driver.find_element_by_link_text(\"Fund Home Page\").click()\n",
    "    driver.find_element_by_link_text(text).click()\n",
    "    time.sleep(12)\n",
    "    driver.quit()\n",
    "    \n",
    "def Locate_by_ID(name, text):\n",
    "    driver = webdriver.Chrome('C:/Users/smile/Documents/GitHub/chromedriver.exe')\n",
    "    driver.get(\"https://ETF.com/\" + name + \"#overview\")\n",
    "    driver.find_element_by_link_text(\"Fund Home Page\").click()\n",
    "    driver.find_element_by_id(text).click()\n",
    "    time.sleep(12)\n",
    "    driver.quit()\n",
    "\n",
    "def Locate_by_XPath(name, text):\n",
    "    driver = webdriver.Chrome('C:/Users/smile/Documents/GitHub/chromedriver.exe')\n",
    "    driver.get(\"https://ETF.com/\" + name)\n",
    "    driver.find_element_by_link_text(\"Fund Home Page\").click()\n",
    "    driver.find_element_by_xpath(text).click()\n",
    "    time.sleep(12)\n",
    "    driver.quit()\n",
    "    \n",
    "def Specific_for_VanEck(typ, name):\n",
    "    driver = webdriver.Chrome('C:/Users/smile/Documents/GitHub/chromedriver.exe')\n",
    "    driver.get(\"https://www.vaneck.com/etf/\" + typ + \"/\" + name + \"/documents/\")\n",
    "    #driver.get(\"https://www.vaneck.com/row/?country=row&vecs=true\")\n",
    "    driver.switch_to_frame('selector') \n",
    "    time.sleep(3)\n",
    "    driver.find_element_by_id(\"retail\").click() \n",
    "    driver.find_element_by_id(\"btnAgree\").click()\n",
    "    #driver.get(\"https://www.vaneck.com/etf/equity/\" + name + \"/documents/\")\n",
    "    driver.find_element_by_link_text(\"NAV & Premium/Discount History\").click()\n",
    "    time.sleep(12)\n",
    "    driver.quit()"
   ]
  },
  {
   "cell_type": "code",
   "execution_count": 245,
   "metadata": {},
   "outputs": [],
   "source": [
    "#classified by institution (different website)\n",
    "ETFcom = { \"Invesco\": ['PZD', 'PXI', 'PXE', 'PXJ', 'PBD', 'RYE', 'PSCE', 'TAN', 'PBW'], \n",
    "          \"SPDR\": ['XLE'], \"ProShares\": ['DIG', 'DUG', 'DDG'], \"Tortoise\": ['TPYP'], \n",
    "          \"VanEck1\": ['KOL', 'GEX', 'CRAK', 'OIH', 'FRAK', 'NLR'], \"VanEck2\": ['YMLI', 'YMLP'],\n",
    "         \"iShares\": ['ICLN', 'IXC', 'FILL', 'IYE', 'IEO', 'IEZ'],\n",
    "         } "
   ]
  },
  {
   "cell_type": "code",
   "execution_count": 171,
   "metadata": {},
   "outputs": [],
   "source": [
    "#download as excel file (wait for processing)\n",
    "\n",
    "#'DIG', 'DUG', 'DDG'\n",
    "for ETF in ETFcom[\"ProShares\"]:\n",
    "    Locate_by_linkname(ETF, \"NAV History\")\n",
    "\n",
    "#'PZD', 'PXI', 'PXE', 'PXJ', 'PBD', 'RYE', 'PSCE', 'TAN', 'PBW'\n",
    "for ETF in ETFcom[\"Invesco\"]:\n",
    "    Locate_by_ID(ETF, \"downloadNavHistory\")\n",
    "\n",
    "#'XLE'   \n",
    "#for ETF in ETFcom[\"SPDR\"]:\n",
    "Locate_by_XPath('XLE', \"//a[contains(text(),'Most Recent NAV / NAV History')]\")\n",
    "\n",
    "#'ICLN', 'IXC', 'FILL', 'IYE', 'IEO', 'IEZ'\n",
    "for ETF in ETFcom[\"iShares\"]:\n",
    "    Locate_by_linkname(ETF, \"Download\")\n",
    "    \n",
    "#equity: 'KOL', 'GEX',  'CRAK', 'OIH', 'FRAK', 'NLR'\n",
    "#income: 'YMLI', 'YMLP',\n",
    "for ETF in ETFcom[\"VanEck1\"]:\n",
    "    Specific_for_VanEck(\"equity\", ETF)\n",
    "for ETF in ETFcom[\"VanEck2\"]:\n",
    "    Specific_for_VanEck(\"income\", ETF)"
   ]
  },
  {
   "cell_type": "code",
   "execution_count": 157,
   "metadata": {},
   "outputs": [
    {
     "data": {
      "text/html": [
       "<div>\n",
       "<style scoped>\n",
       "    .dataframe tbody tr th:only-of-type {\n",
       "        vertical-align: middle;\n",
       "    }\n",
       "\n",
       "    .dataframe tbody tr th {\n",
       "        vertical-align: top;\n",
       "    }\n",
       "\n",
       "    .dataframe thead th {\n",
       "        text-align: right;\n",
       "    }\n",
       "</style>\n",
       "<table border=\"1\" class=\"dataframe\">\n",
       "  <thead>\n",
       "    <tr style=\"text-align: right;\">\n",
       "      <th></th>\n",
       "      <th>Date</th>\n",
       "      <th>NAV</th>\n",
       "    </tr>\n",
       "  </thead>\n",
       "  <tbody>\n",
       "    <tr>\n",
       "      <th>0</th>\n",
       "      <td>3/15/2019</td>\n",
       "      <td>$23.79</td>\n",
       "    </tr>\n",
       "    <tr>\n",
       "      <th>1</th>\n",
       "      <td>3/14/2019</td>\n",
       "      <td>$23.87</td>\n",
       "    </tr>\n",
       "    <tr>\n",
       "      <th>2</th>\n",
       "      <td>3/13/2019</td>\n",
       "      <td>$23.89</td>\n",
       "    </tr>\n",
       "    <tr>\n",
       "      <th>3</th>\n",
       "      <td>3/12/2019</td>\n",
       "      <td>$23.80</td>\n",
       "    </tr>\n",
       "    <tr>\n",
       "      <th>4</th>\n",
       "      <td>3/11/2019</td>\n",
       "      <td>$23.68</td>\n",
       "    </tr>\n",
       "  </tbody>\n",
       "</table>\n",
       "</div>"
      ],
      "text/plain": [
       "        Date     NAV\n",
       "0  3/15/2019  $23.79\n",
       "1  3/14/2019  $23.87\n",
       "2  3/13/2019  $23.89\n",
       "3  3/12/2019  $23.80\n",
       "4  3/11/2019  $23.68"
      ]
     },
     "execution_count": 157,
     "metadata": {},
     "output_type": "execute_result"
    }
   ],
   "source": [
    "#'TPYP'\n",
    "r = requests.get(\"http://etp.tortoiseadvisors.com/tpyp/premium-discount/\")\n",
    "if r.status_code == requests.codes.ok:\n",
    "    soup = BeautifulSoup(r.text, 'html.parser')\n",
    "tags = soup.find_all('table')\n",
    "df = pd.read_html(str(tags[0]))\n",
    "dff = pd.DataFrame(df[0])\n",
    "a = dff[0:781] #date filter\n",
    "TPYP = a.iloc[:,[0,2]] #keep date & NAV\n",
    "TPYP.head()"
   ]
  }
 ],
 "metadata": {
  "kernelspec": {
   "display_name": "Python 3",
   "language": "python",
   "name": "python3"
  },
  "language_info": {
   "codemirror_mode": {
    "name": "ipython",
    "version": 3
   },
   "file_extension": ".py",
   "mimetype": "text/x-python",
   "name": "python",
   "nbconvert_exporter": "python",
   "pygments_lexer": "ipython3",
   "version": "3.6.5"
  }
 },
 "nbformat": 4,
 "nbformat_minor": 2
}
