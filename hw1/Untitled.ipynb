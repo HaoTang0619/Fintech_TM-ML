{
 "cells": [
  {
   "cell_type": "code",
   "execution_count": null,
   "metadata": {},
   "outputs": [],
   "source": [
    "import csv\n",
    "import numpy as np"
   ]
  },
  {
   "cell_type": "markdown",
   "metadata": {},
   "source": [
    "## ETF Data Handling"
   ]
  },
  {
   "cell_type": "code",
   "execution_count": 6,
   "metadata": {},
   "outputs": [],
   "source": [
    "import pandas as pd\n",
    "import datetime"
   ]
  },
  {
   "cell_type": "code",
   "execution_count": 8,
   "metadata": {},
   "outputs": [
    {
     "name": "stdout",
     "output_type": "stream",
     "text": [
      "['XLE', 'AMLP', 'VDE', 'AMJ', 'EMLP', 'XOP', 'MLPI', 'IXC', 'OIH', 'MLPA', 'IYE', 'MLPX', 'FENY', 'AMZA', 'ERX', 'ATMP', 'IEO', 'TPYP', 'AMU', 'TAN', 'GUSH', 'GREK', 'XES', 'RYE', 'FXN', 'ICLN', 'IEZ', 'PZD', 'PBW', 'DIG', 'FCG', 'MLPC', 'QCLN', 'GEX', 'FAN', 'KOL', 'ENFR', 'PXI', 'ZMLP', 'PBD', 'FILL', 'MLPY', 'DRIP', 'PXE', 'YMLP', 'CRAK', 'IMLP', 'GASL', 'MLPO', 'FRAK', 'PSCE', 'GRID', 'NLR', 'ERY', 'YMLI', 'PXJ', 'YLCO', 'PUW', 'DUG', 'ENY', 'MLPG', 'MLPB', 'AMUB', 'GASX', 'CHIE', 'DDG']\n"
     ]
    },
    {
     "data": {
      "text/plain": [
       "66"
      ]
     },
     "execution_count": 8,
     "metadata": {},
     "output_type": "execute_result"
    }
   ],
   "source": [
    "\"\"\"\n",
    "# TODO: \n",
    "Get those etf name which exists before 12/31/2015\n",
    "It should be:\n",
    "    \n",
    "etf_name_list = ['XLE', 'AMLP', 'VDE', 'AMJ', 'EMLP', 'XOP', 'MLPI', 'IXC', 'OIH', 'MLPA', 'IYE', 'MLPX', 'FENY', 'AMZA', 'ERX', 'ATMP', 'IEO', 'TPYP', 'AMU', 'TAN', 'GUSH', 'GREK', 'XES', 'RYE', 'FXN', 'ICLN', 'IEZ', 'PZD', 'PBW', 'DIG', 'FCG', 'MLPC', 'QCLN', 'GEX', 'FAN', 'KOL', 'ENFR', 'PXI', 'ZMLP', 'PBD', 'FILL', 'MLPY', 'DRIP', 'PXE', 'YMLP', 'CRAK', 'IMLP', 'GASL', 'MLPO', 'FRAK', 'PSCE', 'GRID', 'NLR', 'ERY', 'YMLI', 'PXJ', 'YLCO', 'PUW', 'DUG', 'ENY', 'MLPG', 'MLPB', 'AMUB', 'GASX', 'CHIE', 'DDG']\n",
    "len(etf_name_list) == 66\n",
    "    \n",
    "try it !!\n",
    "\"\"\"\n",
    "\n",
    "etf_name_list = []\n",
    "df = pd.read_csv(\"Energy Equity ETF List (80).csv\")\n",
    "date = { \"name\": df[\"Symbol\"], \"date\": df[\"Inception\"] }\n",
    "date = pd.DataFrame(date)\n",
    "#print(date.head())\n",
    "\n",
    "#轉換時間格式\n",
    "for a in range(0,len(date)):\n",
    "    t = time.strptime(date[\"date\"][a], \"%d/%m/%Y\")\n",
    "    date[\"date\"][a] = time.strftime(\"%Y-%m-%d\", t)\n",
    "#print(date.head()) \n",
    "\n",
    "#篩選日期\n",
    "mask = date[\"date\"] <= \"2015-12-31\"\n",
    "etf_name_list = list(date[mask][\"name\"])\n",
    "    \n",
    "print(etf_name_list)\n",
    "len(etf_name_list)"
   ]
  },
  {
   "cell_type": "markdown",
   "metadata": {},
   "source": [
    "## Day & Time Handling"
   ]
  },
  {
   "cell_type": "code",
   "execution_count": null,
   "metadata": {},
   "outputs": [],
   "source": [
    "months = ['Jan', 'Feb', 'Mar', 'Apr', 'May', 'Jun', 'Jul', 'Aug', 'Sep', 'Oct', 'Nov', 'Dec']\n",
    "month_day_dict = {'Jan':31, 'Feb':28, 'Mar':31, 'Apr':30, 'May':31, 'Jun':30, 'Jul':31, 'Aug':31, 'Sep':30, 'Oct':31, 'Nov':30, 'Dec':31}\n",
    "month_trans_dict = {'Jan':1, 'Feb':2, 'Mar':3, 'Apr':4, 'May':5, 'Jun':6, 'Jul':7, 'Aug':8, 'Sep':9, 'Oct':10, 'Nov':11, 'Dec':12}\n",
    "\n",
    "last_day_of_stock_market_dict = {}\n",
    "\n",
    "def is_last_day(time_list):\n",
    "    '''\n",
    "    In this function,\n",
    "    Input a list = [month(int), day(int), yeat(int)]\n",
    "    Output:\n",
    "        True, if it is the last day of the month.\n",
    "        False, if not.\n",
    "    '''\n",
    "    if time_list[2] == 2016 and time_list[0] == 'Feb':\n",
    "        if time_list[1] == 29:\n",
    "            return True\n",
    "        else:\n",
    "            return False\n",
    "    else:\n",
    "        if month_day_dict[time_list[0]] == time_list[1]:\n",
    "            return True\n",
    "        else:\n",
    "            return False\n",
    "\n",
    "def build_last_day_of_stock_market_dict():\n",
    "    '''\n",
    "    # TODO:\n",
    "    We know that stock market closes at weekend. We need to know the exactly last day in stock market of a month.\n",
    "    Build a dictionary that follows:\n",
    "    \n",
    "    last_day_dict['month(int)/day(int)/year(int)'] = True , if it is the last day of month in *stock market*.\n",
    "                                                     False, if not.\n",
    "                                                     \n",
    "    where it only needs to handle between 12/31/2015(Thursday) ~ 12/31/2018(Monday)\n",
    "    for example:\n",
    "        last_day_dict['12/31/2015'] == True  , that is Thursday\n",
    "        \n",
    "        last_day_dict['12/29/2016'] == False , that is Tuesday\n",
    "        last_day_dict['12/30/2016'] == True  , that is Friday\n",
    "        last_day_dict['12/31/2016'] == False , that is Saturday, which stock market is closed.\n",
    "        \n",
    "    Read the calender carefully, and well-use every function and dictionary above.\n",
    "    '''\n",
    "    "
   ]
  },
  {
   "cell_type": "markdown",
   "metadata": {},
   "source": [
    "## Web Crawler"
   ]
  },
  {
   "cell_type": "code",
   "execution_count": null,
   "metadata": {
    "scrolled": true
   },
   "outputs": [],
   "source": [
    "from bs4 import BeautifulSoup\n",
    "from selenium import webdriver\n",
    "from selenium.webdriver.chrome.options import Options\n",
    "import re\n",
    "\n",
    "start_day = 1451404800 # Dec 30, 2015\n",
    "end_day = 1546358400   # Mar 08, 2019\n",
    "per_day = 86400\n",
    "\n",
    "my_options = Options()\n",
    "my_options.add_argument(\"--headless\")\n",
    "#my_options.add_argument(\"download.default_directory=.\")\n",
    "driver = webdriver.Chrome('./chromedriver.exe', chrome_options=my_options)\n",
    "#driver = webdriver.Chrome('./chromedriver.exe')\n",
    "\n",
    "def get_statistics(etf_name):\n",
    "    '''\n",
    "    In this function, we crawl the data of each etf by the name.\n",
    "    Due to many complicating reasons, what I do in follow is:\n",
    "        crawl from 12/31/2017 back to 12/31/2015,\n",
    "        each iteration I only get 90 days, and use last_day_of_stock_market_dict to filter the valid days.\n",
    "        records the needed NAV, and discards everything else.\n",
    "    '''\n",
    "    print('#### start handle %s ####'%(etf_name))\n",
    "    statistic = []\n",
    "    period2 = end_day\n",
    "    period1 = end_day - per_day * 90\n",
    "    while period1 >= start_day - per_day * 90:\n",
    "        url = 'https://finance.yahoo.com/quote/%s/history?period1=%d&period2=%d&interval=1d&filter=history&frequency=1d'%(etf_name, period1, period2)\n",
    "        driver.get(url)\n",
    "        html = driver.page_source\n",
    "        soup = BeautifulSoup(html, features='lxml')\n",
    "        tr_list = soup.find_all('tr', {\"class\": \"BdT Bdc($c-fuji-grey-c) Ta(end) Fz(s) Whs(nw)\"})\n",
    "        for tr in tr_list:\n",
    "            td_time = tr.find('td', {'class': 'Py(10px) Ta(start) Pend(10px)'})\n",
    "            time_list = re.split(r'[,\\s]', td_time.get_text())\n",
    "            \n",
    "            del time_list[2]\n",
    "            time_list[0] = month_trans_dict[time_list[0]]\n",
    "            time_list[1] = int(time_list[1])\n",
    "            time_list[2] = int(time_list[2])    #[month, day, year]\n",
    "            \n",
    "            if not last_day_of_stock_market_dict[ '%d/%d/%d'%(time_list[0], time_list[1], time_list[2]) ]:\n",
    "                continue\n",
    "            if '%d/%d/%d'%(time_list[0], time_list[1], time_list[2]) == '12/30/2015':\n",
    "                break\n",
    "                \n",
    "            td_list = tr.find_all('td', {'class': 'Py(10px) Pstart(10px)'})\n",
    "            statistic.append(float(td_list[3].get_text()))\n",
    "        period2 = period1\n",
    "        period1 = period2 - per_day * 90\n",
    "    return statistic\n",
    "\n",
    "def get_all_statistics(etf_name_list):\n",
    "    '''\n",
    "    In this function, we get the list of names of valid etf names.\n",
    "    Return the nav records in the format:\n",
    "    [\n",
    "        [$1, $2, ...... , $37](for XLE),\n",
    "        [$1, $2, ...... , $37](for AMLP),\n",
    "            ...\n",
    "        [$1, $2, ...... , $37](for DDG),\n",
    "    ]\n",
    "    '''\n",
    "    statistics = []\n",
    "    for etf_name in etf_name_list:\n",
    "        statistic = get_statistics(etf_name)\n",
    "        statistics.append(statistic)\n",
    "    return statistics\n",
    "    "
   ]
  },
  {
   "cell_type": "markdown",
   "metadata": {},
   "source": [
    "## Main"
   ]
  },
  {
   "cell_type": "code",
   "execution_count": null,
   "metadata": {
    "scrolled": true
   },
   "outputs": [],
   "source": [
    "build_last_day_of_stock_market_dict()\n",
    "statistics = get_all_statistics(etf_name_list)\n",
    "print(statistics)"
   ]
  }
 ],
 "metadata": {
  "kernelspec": {
   "display_name": "Python 3",
   "language": "python",
   "name": "python3"
  },
  "language_info": {
   "codemirror_mode": {
    "name": "ipython",
    "version": 3
   },
   "file_extension": ".py",
   "mimetype": "text/x-python",
   "name": "python",
   "nbconvert_exporter": "python",
   "pygments_lexer": "ipython3",
   "version": "3.6.5"
  }
 },
 "nbformat": 4,
 "nbformat_minor": 2
}
