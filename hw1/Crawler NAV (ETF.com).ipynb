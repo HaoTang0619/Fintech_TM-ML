{
 "cells": [
  {
   "cell_type": "markdown",
   "metadata": {},
   "source": [
    "# Crawler (ETF.com)\n",
    "### Total 28 ETF:\n",
    "'PZD', 'PXI', 'PXE', 'PXJ', 'PBD', 'RYE', 'PSCE', 'TAN', 'PBW', 'XLE', 'DIG', 'DUG', 'DDG', 'TPYP', 'KOL', 'GEX', 'YMLI', 'YMLP', 'CRAK', 'OIH', 'FRAK', 'NLR', 'ICLN', 'IXC', 'FILL', 'IYE', 'IEO', 'IEZ'\n",
    "\n",
    "We've downloaded 27 of total ETF as excel file, \n",
    "except for 'TPYP' (dataframe completed, no more need for processing)"
   ]
  },
  {
   "cell_type": "code",
   "execution_count": 258,
   "metadata": {},
   "outputs": [],
   "source": [
    "from selenium import webdriver\n",
    "from selenium.webdriver.support.ui import Select\n",
    "import time\n",
    "from bs4 import BeautifulSoup\n",
    "import requests\n",
    "import pandas as pd"
   ]
  },
  {
   "cell_type": "code",
   "execution_count": 259,
   "metadata": {},
   "outputs": [],
   "source": [
    "def Locate_by_linkname(name, text):\n",
    "    driver = webdriver.Chrome('chromedriver.exe')\n",
    "    driver.get(\"https://ETF.com/\" + name + \"#overview\")\n",
    "    driver.find_element_by_link_text(\"Fund Home Page\").click()\n",
    "    driver.find_element_by_link_text(text).click()\n",
    "    time.sleep(12)\n",
    "    driver.quit()\n",
    "    \n",
    "def Locate_by_ID(name, text):\n",
    "    driver = webdriver.Chrome('chromedriver.exe')\n",
    "    driver.get(\"https://ETF.com/\" + name + \"#overview\")\n",
    "    driver.find_element_by_link_text(\"Fund Home Page\").click()\n",
    "    driver.find_element_by_id(text).click()\n",
    "    time.sleep(12)\n",
    "    driver.quit()\n",
    "\n",
    "def Locate_by_XPath(name, text):\n",
    "    driver = webdriver.Chrome('chromedriver.exe')\n",
    "    driver.get(\"https://ETF.com/\" + name)\n",
    "    driver.find_element_by_link_text(\"Fund Home Page\").click()\n",
    "    driver.find_element_by_xpath(text).click()\n",
    "    time.sleep(12)\n",
    "    driver.quit()\n",
    "    \n",
    "def Specific_for_VanEck(typ, name):\n",
    "    driver = webdriver.Chrome('chromedriver.exe')\n",
    "    driver.get(\"https://www.vaneck.com/etf/\" + typ + \"/\" + name + \"/documents/\")\n",
    "    #driver.get(\"https://www.vaneck.com/row/?country=row&vecs=true\")\n",
    "    driver.switch_to_frame('selector') \n",
    "    time.sleep(3)\n",
    "    driver.find_element_by_id(\"retail\").click() \n",
    "    driver.find_element_by_id(\"btnAgree\").click()\n",
    "    #driver.get(\"https://www.vaneck.com/etf/equity/\" + name + \"/documents/\")\n",
    "    driver.find_element_by_link_text(\"NAV & Premium/Discount History\").click()\n",
    "    time.sleep(12)\n",
    "    driver.quit()"
   ]
  },
  {
   "cell_type": "code",
   "execution_count": 260,
   "metadata": {},
   "outputs": [],
   "source": [
    "#classified by institution (different website)\n",
    "ETFcom = { \"Invesco\": ['PZD', 'PXI', 'PXE', 'PXJ', 'PBD', 'RYE', 'PSCE', 'TAN', 'PBW'], \n",
    "          \"SPDR\": ['XLE'], \"ProShares\": ['DIG', 'DUG', 'DDG'], \"Tortoise\": ['TPYP'], \n",
    "          \"VanEck1\": ['KOL', 'GEX', 'CRAK', 'OIH', 'FRAK', 'NLR'], \"VanEck2\": ['YMLI', 'YMLP'],\n",
    "         \"iShares\": ['ICLN', 'IXC', 'FILL', 'IYE', 'IEO', 'IEZ'],\n",
    "         } "
   ]
  },
  {
   "cell_type": "code",
   "execution_count": 261,
   "metadata": {},
   "outputs": [
    {
     "name": "stdout",
     "output_type": "stream",
     "text": [
      "Successfully download DIG\n",
      "\n",
      "Successfully download DUG\n",
      "\n",
      "Successfully download DDG\n",
      "\n",
      "Successfully download PZD\n",
      "\n",
      "Successfully download PXI\n",
      "\n",
      "Successfully download PXE\n",
      "\n",
      "Successfully download PXJ\n",
      "\n",
      "Successfully download PBD\n",
      "\n",
      "Successfully download RYE\n",
      "\n",
      "Successfully download PSCE\n",
      "\n",
      "Successfully download TAN\n",
      "\n",
      "Successfully download PBW\n",
      "\n",
      "Successfully download XLE \n",
      "\n",
      "Successfully download ICLN\n",
      "\n",
      "Successfully download IXC\n",
      "\n",
      "Successfully download FILL\n",
      "\n",
      "Successfully download IYE\n",
      "\n",
      "Successfully download IEO\n",
      "\n",
      "Successfully download IEZ\n",
      "\n"
     ]
    },
    {
     "name": "stderr",
     "output_type": "stream",
     "text": [
      "C:\\Users\\smile\\Anaconda3\\lib\\site-packages\\ipykernel_launcher.py:29: DeprecationWarning: use driver.switch_to.frame instead\n"
     ]
    },
    {
     "name": "stdout",
     "output_type": "stream",
     "text": [
      "Successfully download KOL\n",
      "\n",
      "Successfully download GEX\n",
      "\n",
      "Successfully download CRAK\n",
      "\n",
      "Successfully download OIH\n",
      "\n",
      "Successfully download FRAK\n",
      "\n",
      "Successfully download NLR\n",
      "\n",
      "Successfully download YMLI\n",
      "\n",
      "Successfully download YMLP\n",
      "\n"
     ]
    }
   ],
   "source": [
    "#download as excel file (wait for processing)\n",
    "\n",
    "#'DIG', 'DUG', 'DDG'\n",
    "for ETF in ETFcom[\"ProShares\"]:\n",
    "    Locate_by_linkname(ETF, \"NAV History\")\n",
    "    print(\"Successfully download \" + ETF + \"\\n\")\n",
    "\n",
    "#'PZD', 'PXI', 'PXE', 'PXJ', 'PBD', 'RYE', 'PSCE', 'TAN', 'PBW'\n",
    "for ETF in ETFcom[\"Invesco\"]:\n",
    "    Locate_by_ID(ETF, \"downloadNavHistory\")\n",
    "    print(\"Successfully download \" + ETF + \"\\n\")\n",
    "\n",
    "#'XLE'   \n",
    "#for ETF in ETFcom[\"SPDR\"]:\n",
    "Locate_by_XPath('XLE', \"//a[contains(text(),'Most Recent NAV / NAV History')]\")\n",
    "print(\"Successfully download XLE \\n\")\n",
    "\n",
    "#'ICLN', 'IXC', 'FILL', 'IYE', 'IEO', 'IEZ'\n",
    "for ETF in ETFcom[\"iShares\"]:\n",
    "    Locate_by_linkname(ETF, \"Download\")\n",
    "    print(\"Successfully download \" + ETF + \"\\n\")\n",
    "    \n",
    "#equity: 'KOL', 'GEX',  'CRAK', 'OIH', 'FRAK', 'NLR'\n",
    "#income: 'YMLI', 'YMLP',\n",
    "for ETF in ETFcom[\"VanEck1\"]:\n",
    "    Specific_for_VanEck(\"equity\", ETF)\n",
    "    print(\"Successfully download \" + ETF + \"\\n\")\n",
    "for ETF in ETFcom[\"VanEck2\"]:\n",
    "    Specific_for_VanEck(\"income\", ETF)\n",
    "    print(\"Successfully download \" + ETF + \"\\n\")"
   ]
  },
  {
   "cell_type": "code",
   "execution_count": 262,
   "metadata": {},
   "outputs": [],
   "source": [
    "#'TPYP' \n",
    "r = requests.get(\"http://etp.tortoiseadvisors.com/tpyp/premium-discount/\")\n",
    "if r.status_code == requests.codes.ok:\n",
    "    soup = BeautifulSoup(r.text, 'html.parser')\n",
    "tags = soup.find_all('table')\n",
    "df = pd.read_html(str(tags[0]))\n",
    "dff = pd.DataFrame(df[0])\n",
    "a = dff[0:781] #date filter\n",
    "TPYP = a.iloc[:,[0,2]] #keep date & NAV"
   ]
  }
 ],
 "metadata": {
  "kernelspec": {
   "display_name": "Python 3",
   "language": "python",
   "name": "python3"
  },
  "language_info": {
   "codemirror_mode": {
    "name": "ipython",
    "version": 3
   },
   "file_extension": ".py",
   "mimetype": "text/x-python",
   "name": "python",
   "nbconvert_exporter": "python",
   "pygments_lexer": "ipython3",
   "version": "3.6.5"
  }
 },
 "nbformat": 4,
 "nbformat_minor": 2
}
